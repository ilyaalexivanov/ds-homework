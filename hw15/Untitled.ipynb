{
 "cells": [
  {
   "cell_type": "code",
   "execution_count": null,
   "metadata": {},
   "outputs": [],
   "source": [
    "\n"
   ]
  },
  {
   "cell_type": "code",
   "execution_count": 1,
   "metadata": {},
   "outputs": [],
   "source": [
    "def load_data(filename: str, load_tag=True):\n",
    "    seqs = []\n",
    "    tags = []\n",
    "    seq = []\n",
    "    tag = []\n",
    "    with open(filename, 'r', encoding='utf-8') as f:\n",
    "        for line in f.readlines():\n",
    "            if line == '\\n':\n",
    "                if len(seq) == 0:\n",
    "                    continue\n",
    "                seqs.append(seq)\n",
    "                tags.append(tag)\n",
    "                seq = []\n",
    "                tag = []\n",
    "            else:\n",
    "                line = line.split()\n",
    "                seq.append(line[0])\n",
    "                tag.append(line[-1])\n",
    "    if load_tag:\n",
    "        return seqs, tags\n",
    "    else:\n",
    "        return seqs"
   ]
  },
  {
   "cell_type": "code",
   "execution_count": 4,
   "metadata": {},
   "outputs": [],
   "source": [
    "train_data = load_data('data/train.txt')\n",
    "dev_data = load_data('data/dev.txt')\n",
    "test_data = load_data('data/test.txt')"
   ]
  },
  {
   "cell_type": "code",
   "execution_count": 6,
   "metadata": {},
   "outputs": [],
   "source": [
    "#from .layer import *\n",
    "import torch.nn as nn\n",
    "import math\n",
    "\n",
    "\n",
    "class BiLSTM(nn.Module):\n",
    "    def __init__(self, vocab: int, embed_dim: int, hidden_dim: int, tag_size: int):\n",
    "        super().__init__()\n",
    "        self.embedding = nn.Embedding(vocab, embed_dim)\n",
    "        self.bilstm = BiLSTMLayer(embed_dim, hidden_dim)\n",
    "        self.hidden2tag = nn.Linear(hidden_dim, tag_size)\n",
    "        self.tag_size = tag_size\n",
    "\n",
    "    def forward(self, x):\n",
    "        embeds = self.embedding(x)\n",
    "        lstm_out, _ = self.bilstm(embeds)\n",
    "        return self.hidden2tag(lstm_out)"
   ]
  },
  {
   "cell_type": "code",
   "execution_count": null,
   "metadata": {},
   "outputs": [],
   "source": []
  }
 ],
 "metadata": {
  "kernelspec": {
   "display_name": "Python 3",
   "language": "python",
   "name": "python3"
  },
  "language_info": {
   "codemirror_mode": {
    "name": "ipython",
    "version": 3
   },
   "file_extension": ".py",
   "mimetype": "text/x-python",
   "name": "python",
   "nbconvert_exporter": "python",
   "pygments_lexer": "ipython3",
   "version": "3.7.3"
  }
 },
 "nbformat": 4,
 "nbformat_minor": 2
}
