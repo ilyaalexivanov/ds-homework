{
 "cells": [
  {
   "cell_type": "markdown",
   "metadata": {},
   "source": [
    "# RNN Language Model"
   ]
  },
  {
   "cell_type": "code",
   "execution_count": 94,
   "metadata": {},
   "outputs": [],
   "source": [
    "import torch\n",
    "import torch.nn as nn\n",
    "import numpy as np\n",
    "from torch.nn.utils import clip_grad_norm_"
   ]
  },
  {
   "cell_type": "code",
   "execution_count": 95,
   "metadata": {},
   "outputs": [],
   "source": [
    "#https://github.com/pytorch/examples/tree/master/word_language_model \n",
    "class Dictionary(object):\n",
    "    def __init__(self):\n",
    "        self.word2idx = {}\n",
    "        self.idx2word = {}\n",
    "        self.idx = 0\n",
    "    \n",
    "    def add_word(self, word):\n",
    "        if not word in self.word2idx:\n",
    "            self.word2idx[word] = self.idx\n",
    "            self.idx2word[self.idx] = word\n",
    "            self.idx += 1\n",
    "    \n",
    "    def __len__(self):\n",
    "        return len(self.word2idx)\n",
    "\n",
    "\n",
    "class Corpus(object):\n",
    "    def __init__(self):\n",
    "        self.dictionary = Dictionary()\n",
    "\n",
    "    def get_data(self, path, batch_size=20):\n",
    "        # Add words to the dictionary\n",
    "        with open(path, 'r') as f:\n",
    "            tokens = 0\n",
    "            for line in f:\n",
    "                words = line.split() + ['<eos>']\n",
    "                tokens += len(words)\n",
    "                for word in words: \n",
    "                    self.dictionary.add_word(word)  \n",
    "        \n",
    "        # Tokenize the file content\n",
    "        ids = torch.LongTensor(tokens)\n",
    "        token = 0\n",
    "        with open(path, 'r') as f:\n",
    "            for line in f:\n",
    "                words = line.split() + ['<eos>']\n",
    "                for word in words:\n",
    "                    ids[token] = self.dictionary.word2idx[word]\n",
    "                    token += 1\n",
    "        num_batches = ids.size(0) // batch_size\n",
    "        ids = ids[:num_batches*batch_size]\n",
    "        return ids.view(batch_size, -1)"
   ]
  },
  {
   "cell_type": "markdown",
   "metadata": {},
   "source": [
    "## Hyper-parameters"
   ]
  },
  {
   "cell_type": "code",
   "execution_count": 96,
   "metadata": {},
   "outputs": [],
   "source": [
    "embed_size = 128\n",
    "hidden_size = 1024\n",
    "num_layers = 1\n",
    "num_epochs = 5\n",
    "num_samples = 1000\n",
    "batch_size = 20\n",
    "seq_length = 30\n",
    "learning_rate = 0.002"
   ]
  },
  {
   "cell_type": "code",
   "execution_count": 97,
   "metadata": {},
   "outputs": [],
   "source": [
    "corpus = Corpus()\n",
    "ids = corpus.get_data('anna.txt', batch_size)\n",
    "#ids = corpus.get_data('anna_short.txt', batch_size)\n",
    "vocab_size = len(corpus.dictionary)\n",
    "num_batches = ids.size(1) // seq_length"
   ]
  },
  {
   "cell_type": "markdown",
   "metadata": {},
   "source": [
    "## Language Model"
   ]
  },
  {
   "cell_type": "code",
   "execution_count": 98,
   "metadata": {},
   "outputs": [],
   "source": [
    "class RNNLM(nn.Module):\n",
    "    def __init__(self, vocab_size, embed_size, hidden_size, num_layers):\n",
    "        super(RNNLM, self).__init__()\n",
    "        self.embed = nn.Embedding(vocab_size, embed_size)\n",
    "        self.lstm = nn.LSTM(embed_size, hidden_size, num_layers, batch_first=True)\n",
    "        self.linear = nn.Linear(hidden_size, vocab_size)\n",
    "        \n",
    "    def forward(self, x, h):\n",
    "        x = self.embed(x)\n",
    "        out, (h, c) = self.lstm(x, h)\n",
    "        out = out.reshape(out.size(0)*out.size(1), out.size(2))\n",
    "        out = self.linear(out)\n",
    "        return out, (h, c)"
   ]
  },
  {
   "cell_type": "code",
   "execution_count": 99,
   "metadata": {},
   "outputs": [],
   "source": [
    "model = RNNLM(vocab_size, embed_size, hidden_size, num_layers)"
   ]
  },
  {
   "cell_type": "code",
   "execution_count": 100,
   "metadata": {},
   "outputs": [],
   "source": [
    "criterion = nn.CrossEntropyLoss()\n",
    "optimizer = torch.optim.Adam(model.parameters(), lr=learning_rate)"
   ]
  },
  {
   "cell_type": "code",
   "execution_count": 101,
   "metadata": {},
   "outputs": [],
   "source": [
    "def detach(states):\n",
    "    return [state.detach() for state in states]"
   ]
  },
  {
   "cell_type": "code",
   "execution_count": 102,
   "metadata": {
    "scrolled": true
   },
   "outputs": [
    {
     "name": "stdout",
     "output_type": "stream",
     "text": [
      "Epoch [1/5], Step[0/655], Loss: 10.2829, Perplexity: 29229.76\n",
      "Epoch [1/5], Step[100/655], Loss: 6.5358, Perplexity: 689.40\n",
      "Epoch [1/5], Step[200/655], Loss: 6.4094, Perplexity: 607.52\n",
      "Epoch [1/5], Step[300/655], Loss: 5.9895, Perplexity: 399.23\n",
      "Epoch [1/5], Step[400/655], Loss: 5.8933, Perplexity: 362.59\n",
      "Epoch [1/5], Step[500/655], Loss: 5.5209, Perplexity: 249.87\n",
      "Epoch [1/5], Step[600/655], Loss: 5.4325, Perplexity: 228.72\n",
      "Epoch [2/5], Step[0/655], Loss: 5.4500, Perplexity: 232.77\n",
      "Epoch [2/5], Step[100/655], Loss: 5.1026, Perplexity: 164.45\n",
      "Epoch [2/5], Step[200/655], Loss: 5.0170, Perplexity: 150.95\n",
      "Epoch [2/5], Step[300/655], Loss: 4.7611, Perplexity: 116.87\n",
      "Epoch [2/5], Step[400/655], Loss: 4.7792, Perplexity: 119.01\n",
      "Epoch [2/5], Step[500/655], Loss: 4.4886, Perplexity: 89.00\n",
      "Epoch [2/5], Step[600/655], Loss: 4.3621, Perplexity: 78.42\n",
      "Epoch [3/5], Step[0/655], Loss: 4.4412, Perplexity: 84.87\n",
      "Epoch [3/5], Step[100/655], Loss: 4.1426, Perplexity: 62.97\n",
      "Epoch [3/5], Step[200/655], Loss: 3.8729, Perplexity: 48.08\n",
      "Epoch [3/5], Step[300/655], Loss: 3.7801, Perplexity: 43.82\n",
      "Epoch [3/5], Step[400/655], Loss: 3.7115, Perplexity: 40.92\n",
      "Epoch [3/5], Step[500/655], Loss: 3.4920, Perplexity: 32.85\n",
      "Epoch [3/5], Step[600/655], Loss: 3.3392, Perplexity: 28.20\n",
      "Epoch [4/5], Step[0/655], Loss: 3.3649, Perplexity: 28.93\n",
      "Epoch [4/5], Step[100/655], Loss: 3.3542, Perplexity: 28.62\n",
      "Epoch [4/5], Step[200/655], Loss: 3.0098, Perplexity: 20.28\n",
      "Epoch [4/5], Step[300/655], Loss: 3.0148, Perplexity: 20.39\n",
      "Epoch [4/5], Step[400/655], Loss: 2.9579, Perplexity: 19.26\n",
      "Epoch [4/5], Step[500/655], Loss: 2.8399, Perplexity: 17.11\n",
      "Epoch [4/5], Step[600/655], Loss: 2.5844, Perplexity: 13.26\n",
      "Epoch [5/5], Step[0/655], Loss: 2.5823, Perplexity: 13.23\n",
      "Epoch [5/5], Step[100/655], Loss: 2.7317, Perplexity: 15.36\n",
      "Epoch [5/5], Step[200/655], Loss: 2.5446, Perplexity: 12.74\n",
      "Epoch [5/5], Step[300/655], Loss: 2.5029, Perplexity: 12.22\n",
      "Epoch [5/5], Step[400/655], Loss: 2.3924, Perplexity: 10.94\n",
      "Epoch [5/5], Step[500/655], Loss: 2.3489, Perplexity: 10.47\n",
      "Epoch [5/5], Step[600/655], Loss: 2.0884, Perplexity:  8.07\n"
     ]
    }
   ],
   "source": [
    "for epoch in range(num_epochs):\n",
    "    states = ( torch.zeros(num_layers, batch_size, hidden_size),\n",
    "                    torch.zeros(num_layers, batch_size, hidden_size))\n",
    "    \n",
    "    for i in range(0, ids.size(1) - seq_length, seq_length):\n",
    "        # inputs and targets\n",
    "        inputs = ids[:, i:i+seq_length]\n",
    "        targets = ids[:, (i+1):(i+1)+seq_length]\n",
    "        # Forward pass\n",
    "        states = detach(states)\n",
    "        outputs, states = model(inputs, states)\n",
    "        loss = criterion(outputs, targets.reshape(-1))\n",
    "        \n",
    "        # Backward and optimize\n",
    "        model.zero_grad()\n",
    "        loss.backward()\n",
    "        clip_grad_norm_(model.parameters(), 0.5)\n",
    "        optimizer.step()\n",
    "\n",
    "        step = (i+1) // seq_length\n",
    "        if step % 100 == 0:\n",
    "            print ('Epoch [{}/{}], Step[{}/{}], Loss: {:.4f}, Perplexity: {:5.2f}'\n",
    "                   .format(epoch+1, num_epochs, step, num_batches, loss.item(), np.exp(loss.item())))"
   ]
  },
  {
   "cell_type": "code",
   "execution_count": null,
   "metadata": {},
   "outputs": [],
   "source": []
  }
 ],
 "metadata": {
  "kernelspec": {
   "display_name": "Python 3",
   "language": "python",
   "name": "python3"
  },
  "language_info": {
   "codemirror_mode": {
    "name": "ipython",
    "version": 3
   },
   "file_extension": ".py",
   "mimetype": "text/x-python",
   "name": "python",
   "nbconvert_exporter": "python",
   "pygments_lexer": "ipython3",
   "version": "3.7.3"
  }
 },
 "nbformat": 4,
 "nbformat_minor": 2
}
