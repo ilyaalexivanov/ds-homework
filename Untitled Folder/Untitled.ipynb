{
 "cells": [
  {
   "cell_type": "markdown",
   "metadata": {},
   "source": [
    "Обыкновенной дробью называется выражение вида \\dfrac{m}{n} \n",
    "n\n",
    "m\n",
    "​\t\n",
    " , где mm и nn — натуральные числа. Число mm называется числителем, а nn — знаменателем дроби.\n",
    "\\dfrac{m}{n} \\begin{array}{cc} \\impliedby &amp; \\text{числитель} \\\\ \\impliedby &amp; \\text{знаменатель} \\end{array} \n",
    "n\n",
    "m\n",
    "​\t\n",
    "  \n",
    "⟸\n",
    "⟸\n",
    "​\t\n",
    "  \n",
    "числитель\n",
    "знаменатель\n",
    "​\t\n",
    " \n",
    "Дробная черта – это то же самое, что и знак деления:\n",
    "5:10=\\dfrac{5}{10}=0,55:10= \n",
    "10\n",
    "5\n",
    "​\t\n",
    " =0,5."
   ]
  },
  {
   "cell_type": "code",
   "execution_count": null,
   "metadata": {},
   "outputs": [],
   "source": []
  }
 ],
 "metadata": {
  "kernelspec": {
   "display_name": "Python 2",
   "language": "python",
   "name": "python2"
  },
  "language_info": {
   "codemirror_mode": {
    "name": "ipython",
    "version": 3
   },
   "file_extension": ".py",
   "mimetype": "text/x-python",
   "name": "python",
   "nbconvert_exporter": "python",
   "pygments_lexer": "ipython3",
   "version": "3.7.3"
  }
 },
 "nbformat": 4,
 "nbformat_minor": 2
}
