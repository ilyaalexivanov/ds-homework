{
 "cells": [
  {
   "cell_type": "code",
   "execution_count": 1,
   "metadata": {},
   "outputs": [],
   "source": [
    "import numpy as np\n",
    "import pandas as pd\n",
    "from subprocess import check_output\n",
    "from sklearn.feature_extraction.text import TfidfTransformer, CountVectorizer\n",
    "from catboost import Pool, CatBoostRegressor\n",
    "from sklearn import preprocessing\n",
    "import gc\n",
    "from scipy.sparse import hstack, csr_matrix"
   ]
  },
  {
   "cell_type": "code",
   "execution_count": null,
   "metadata": {},
   "outputs": [],
   "source": [
    "#train = pd.read_csv('../input/mercari-price-suggestion-challenge/train.tsv', nrows=10, sep='\\t')\n",
    "#test = pd.read_csv('../input/mercari-price-suggestion-challenge/test_stg2.tsv',nrows=10,  sep='\\t')\n",
    "train = pd.read_csv('../input/mercari-price-suggestion-challenge/train.tsv', sep='\\t')\n",
    "test = pd.read_csv('../input/mercari-price-suggestion-challenge/test_stg2.tsv',  sep='\\t')\n",
    "\n",
    "print(\"finish loading\")"
   ]
  },
  {
   "cell_type": "code",
   "execution_count": null,
   "metadata": {},
   "outputs": [],
   "source": [
    "def split_cat(text):\n",
    "    try: return text.split(\"/\")\n",
    "    except: return (\"No Label\", \"No Label\", \"No Label\")\n",
    "\n",
    "train['general_cat'], train['subcat_1'], train['subcat_2'] = zip(*train['category_name'].apply(lambda x: split_cat(x)))\n",
    "test['general_cat'], test['subcat_1'], test['subcat_2'] = zip(*test['category_name'].apply(lambda x: split_cat(x)))\n",
    "\n",
    "train = train.drop(\"category_name\", axis=1)\n",
    "test = test.drop(\"category_name\", axis=1)\n",
    "\n",
    "train['brand_name'] = train['brand_name'].fillna('nobrand')\n",
    "test['brand_name'] = test['brand_name'].fillna('nobrand')\n",
    "\n",
    "train['brand_name'] = train['brand_name'].fillna('nobrand')\n",
    "test['brand_name'] = test['brand_name'].fillna('nobrand')\n",
    "\n",
    "train['name'] = train['name'].fillna('name')\n",
    "test['name'] = test['name'].fillna('name')\n",
    "\n",
    "train['item_description'] = train['item_description'].fillna('descr')\n",
    "test['item_description'] = test['item_description'].fillna('descr')"
   ]
  },
  {
   "cell_type": "code",
   "execution_count": null,
   "metadata": {},
   "outputs": [],
   "source": [
    "corpus_name = np.hstack([train.name,test.name ])\n",
    "vectorizer_name = CountVectorizer(stop_words='english')\n",
    "vectorizer_name.fit(corpus_name)\n",
    "\n",
    "train_name = vectorizer_name.transform(train.name.values)\n",
    "test_name = vectorizer_name.transform(test.name.values)\n",
    "\n",
    "del vectorizer_name\n",
    "gc.collect()\n",
    "\n",
    "transformer = TfidfTransformer()\n",
    "tr_name = transformer.fit_transform(train_name)\n",
    "te_name = transformer.fit_transform(test_name)\n",
    "\n",
    "del train_name, test_name\n",
    "gc.collect()"
   ]
  },
  {
   "cell_type": "code",
   "execution_count": null,
   "metadata": {},
   "outputs": [],
   "source": [
    "corpus_desc = np.hstack([train.item_description, test.item_description])\n",
    "vectorizer_desc = CountVectorizer(stop_words='english')\n",
    "vectorizer_desc.fit(corpus_desc)\n",
    "\n",
    "train_desc = vectorizer_desc.transform(train.item_description.values)\n",
    "test_desc = vectorizer_desc.transform(test.item_description.values)\n",
    "\n",
    "del vectorizer_desc\n",
    "gc.collect()\n",
    "\n",
    "tr_desc = transformer.fit_transform(train_desc)\n",
    "te_desc = transformer.fit_transform(test_desc)\n",
    "\n",
    "del train_desc, test_desc\n",
    "gc.collect()"
   ]
  },
  {
   "cell_type": "code",
   "execution_count": null,
   "metadata": {},
   "outputs": [],
   "source": [
    "train['cor_name_Tfidf'] = np.mean(tr_name,1)\n",
    "train['cor_desc_Tfidf'] = np.mean(tr_desc,1)\n",
    "\n",
    "test['cor_name_Tfidf'] = np.mean(te_name,1)\n",
    "test['cor_desc_Tfidf'] = np.mean(te_desc,1)\n",
    "\n",
    "del tr_name, tr_desc, te_name, te_desc\n",
    "gc.collect()"
   ]
  },
  {
   "cell_type": "code",
   "execution_count": null,
   "metadata": {},
   "outputs": [],
   "source": [
    "shape = train.shape[0]\n",
    "\n",
    "names = pd.concat([train.name, test.name])\n",
    "names = names.astype('category').cat.codes\n",
    "train['names_cat'] = names[:shape]\n",
    "test['names_cat'] = names[shape:]\n",
    "\n",
    "descs = pd.concat([train.item_description, test.item_description])\n",
    "descs = descs.astype('category').cat.codes\n",
    "train['descs_cat'] = descs[:shape]\n",
    "test['descs_cat'] = descs[shape:]"
   ]
  },
  {
   "cell_type": "code",
   "execution_count": null,
   "metadata": {},
   "outputs": [],
   "source": [
    "del shape, names, descs\n",
    "gc.collect()"
   ]
  },
  {
   "cell_type": "code",
   "execution_count": null,
   "metadata": {},
   "outputs": [],
   "source": [
    "x_train = train.drop(['name','item_description','train_id','price'],1)\n",
    "x_test = test.drop(['name','item_description','test_id',],1)\n",
    "y_train = np.abs(train.price.values)\n",
    "\n",
    "x_train = x_train.fillna(0)\n",
    "x_test = x_test.fillna(0)"
   ]
  },
  {
   "cell_type": "code",
   "execution_count": null,
   "metadata": {},
   "outputs": [],
   "source": [
    "train_data = Pool(x_train, y_train, cat_features=[0,1,3,4,5,8,9])\n",
    "test_data = Pool(x_test, cat_features=[0,1,3,4,5,8,9])\n",
    "idx = test.test_id.values\n",
    "del x_train, x_test, y_train, train, test\n",
    "gc.collect()"
   ]
  },
  {
   "cell_type": "code",
   "execution_count": null,
   "metadata": {},
   "outputs": [],
   "source": [
    "params = {'depth': 11, 'iterations': 500, 'l2_leaf_reg': 9, \n",
    "        'learning_rate': 0.98, 'random_seed': 1111,\n",
    "        'loss_function': 'MAE'}\n",
    "\n",
    "#params = {'depth': 2, 'iterations': 2, 'l2_leaf_reg': 9, \n",
    "#        'learning_rate': 0.98, 'random_seed': 1111,\n",
    "#        'loss_function': 'MAE'}\n",
    "\n",
    "model = CatBoostRegressor(**params)\n",
    "model.fit(train_data)"
   ]
  },
  {
   "cell_type": "code",
   "execution_count": null,
   "metadata": {},
   "outputs": [],
   "source": [
    "print('prediction')\n",
    "y_pred = model.predict(test_data)\n",
    "\n",
    "sub = pd.DataFrame()\n",
    "sub['test_id'] = idx\n",
    "sub['price'] = np.abs(y_pred)\n",
    "sub.to_csv('submission.csv', index=False, float_format='%.3f')\n",
    "print('finish prediction')"
   ]
  }
 ],
 "metadata": {
  "kernelspec": {
   "display_name": "Python 3",
   "language": "python",
   "name": "python3"
  },
  "language_info": {
   "codemirror_mode": {
    "name": "ipython",
    "version": 3
   },
   "file_extension": ".py",
   "mimetype": "text/x-python",
   "name": "python",
   "nbconvert_exporter": "python",
   "pygments_lexer": "ipython3",
   "version": "3.7.3"
  }
 },
 "nbformat": 4,
 "nbformat_minor": 2
}
