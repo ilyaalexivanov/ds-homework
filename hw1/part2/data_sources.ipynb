{
 "cells": [
  {
   "cell_type": "markdown",
   "metadata": {},
   "source": [
    "Задание 2. Список источников."
   ]
  },
  {
   "cell_type": "markdown",
   "metadata": {},
   "source": [
    "1. http://www.football-data.co.uk/englandm.php \n",
    "Статистика по играм английской премьер лиги со ставками букмейкеров. "
   ]
  },
  {
   "cell_type": "markdown",
   "metadata": {},
   "source": [
    "2. https://the-odds-api.com/\n",
    "Ставки и статистика по различным спортивным событиям"
   ]
  },
  {
   "cell_type": "markdown",
   "metadata": {},
   "source": [
    "3. https://opendata.socrata.com/\n",
    "Открытые дата сеты от правительства США"
   ]
  },
  {
   "cell_type": "markdown",
   "metadata": {},
   "source": [
    "4. https://rapidapi.com/theapiguy/api/free-nba\n",
    "Статистика по играм в NBA бесплатная"
   ]
  },
  {
   "cell_type": "markdown",
   "metadata": {},
   "source": [
    "5. https://www.data.gov/\n",
    "Открытые данные правительства США"
   ]
  },
  {
   "cell_type": "markdown",
   "metadata": {},
   "source": [
    "6. https://github.com/fivethirtyeight/data/tree/master/airline-safety\n",
    "Несчастные случае полетов"
   ]
  },
  {
   "cell_type": "markdown",
   "metadata": {},
   "source": [
    "7. https://github.com/fivethirtyeight/data/tree/master/us-weather-history\n",
    "Погода в США"
   ]
  },
  {
   "cell_type": "markdown",
   "metadata": {},
   "source": [
    "8. http://mlr.cs.umass.edu/ml/datasets/Car+Evaluation\n",
    "Оценка авто"
   ]
  },
  {
   "cell_type": "markdown",
   "metadata": {},
   "source": [
    "9. https://developer.betfair.com/\n",
    "Ставки на спорт"
   ]
  },
  {
   "cell_type": "markdown",
   "metadata": {},
   "source": [
    "10. https://www.quandl.com/\n",
    "Финансовые датасеты"
   ]
  }
 ],
 "metadata": {
  "kernelspec": {
   "display_name": "Python 3",
   "language": "python",
   "name": "python3"
  },
  "language_info": {
   "codemirror_mode": {
    "name": "ipython",
    "version": 3
   },
   "file_extension": ".py",
   "mimetype": "text/x-python",
   "name": "python",
   "nbconvert_exporter": "python",
   "pygments_lexer": "ipython3",
   "version": "3.7.3"
  }
 },
 "nbformat": 4,
 "nbformat_minor": 2
}
