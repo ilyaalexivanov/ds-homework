{
 "cells": [
  {
   "cell_type": "markdown",
   "metadata": {},
   "source": [
    "# Вывод EM-алгоритма"
   ]
  },
  {
   "cell_type": "markdown",
   "metadata": {},
   "source": [
    "## Гипотеза о вероятностной природе данных\n",
    "Выборка $X^l$ случайна, независима, из смеси распределений \n",
    "$$p(x) = \\sum_{j=1}^{k} w_j p_j(x)$$\n",
    "$$\\sum_{j=1}^{k} w_j = 1$$\n",
    "\n",
    "где $p_j(x)$ — функция правдоподобия j-й компоненты смеси, $w_j$ — её априорная вероятность."
   ]
  },
  {
   "cell_type": "markdown",
   "metadata": {},
   "source": [
    "## Гипотеза о пространстве объектов и форме кластеров\n",
    "\n",
    "$$X = R^n$$\n",
    "$$ p_j(x) = (2 * \\pi)^{\\frac{-n}{2}} (\\sigma_{j1} ... \\sigma_{jn}) ^ {-1} exp(\\frac{-1}{2}\\rho_j^2(x, \\mu_j))$$\n",
    "\n",
    "Центры кластеров: $$\\mu_j = (\\mu_{j1}, ..., \\mu_{jn})$$\n",
    "Диагональная матрица ковариаций: $$\\Sigma_j = diag(\\sigma_{j1}, ..., \\sigma_{jn})$$\n",
    "\n",
    "$$\\rho_j^2(x, x') = \\sum_{j}\\sigma_{yj}^{-2} |f_j(x) - f_j(x')|$$"
   ]
  },
  {
   "cell_type": "markdown",
   "metadata": {},
   "source": [
    "# E-шаг:\n",
    "$$ g_{ij} = P(x | x_i) = \\frac{w_j p_j(x)}{\\sum_{z=1}^{k} {w_z p_z(x_i)}}$$\n"
   ]
  },
  {
   "cell_type": "markdown",
   "metadata": {},
   "source": [
    "# M-шаг:"
   ]
  },
  {
   "cell_type": "markdown",
   "metadata": {},
   "source": [
    "## найдем $w_j $ "
   ]
  },
  {
   "cell_type": "markdown",
   "metadata": {},
   "source": [
    "Будем максимизировать логарифм правдоподобия\n",
    "\n",
    "$$Q(\\mu, \\sigma) = \\ln \\prod_{i=1}^{m} p_i(x) = \\sum_{i=1}^{m} \\ln \\sum_{j=1}^{k} w_j p_j(x_i) \\rightarrow  max $$  \n",
    "\n",
    "при ограничении:\n",
    "$$\\sum_{j=1}^{k} w_j = 1$$\n",
    "\n",
    "Запишем лагранжиан\n",
    "$$L(\\mu, \\sigma) = \\sum_{i=1}^{m} \\ln (\\sum_{j=1}^{k} w_j p_j(x_i)) - \\lambda (\\sum_{j=1}^{k} w_j -1) $$\n",
    "\n",
    "Приравняем нулю производную лагранжиана по $w_j$\n",
    "\n",
    "$$ \\frac{\\partial L(\\mu, \\sigma)}{\\partial w_j} = \\sum_{i=1}^{m} \\frac{p_j(x_i)}{\\sum_{s=1}^{k}w_s p_s(x_i)} - \\lambda = 0 $$\n",
    "\n",
    "Умножим левую и правую части на $w_j$, просуммируем все $k$ этих равенств, и поменяем местами знаки суммирования по $j$ и по $i$:\n",
    "\n",
    "$$ \\sum_{i=1}^{m} \\sum_{j=1}^{k} \\frac{w_j p_j(x_i)}{\\sum_{s=1}^{k}w_s p_s(x_i)} = \\lambda \\sum_{j=1}^{k} w_j$$\n",
    "\n",
    "откуда следует $\\lambda = m$\n",
    "\n",
    "\n",
    "Теперь снова умножим левую и правую части на $w_j$, подставим $\\lambda = m$ и получим:\n",
    "\n",
    "$$ w_j = \\frac{1}{m} \\sum_{i=1}^{m} \\frac{w_j p_j(x_i)}{\\sum_{s=1}^{k}w_s p_s(x_i)} =   \\frac{1}{m} \\sum_{i=1}^{m} g_{ij}   $$"
   ]
  },
  {
   "cell_type": "markdown",
   "metadata": {},
   "source": [
    "## Найдем $\\mu_j$  и $  \\Sigma_j $ "
   ]
  },
  {
   "cell_type": "markdown",
   "metadata": {},
   "source": [
    "Центры кластеров: $$\\mu_j = (\\mu_{j1}, ..., \\mu_{jn})$$\n",
    "Диагональная матрица ковариаций: $$\\Sigma_j = diag(\\sigma_{j1}, ..., \\sigma_{jn})$$\n",
    "\n",
    "\n",
    "Нормальное распределение:\n",
    "$$ N(x, \\mu_j, \\Sigma_j) = \\prod_{d=1}^{n} \\frac{1}{\\sigma_{jd} \\sqrt{2\\pi}}  \\exp (-\\frac{1}{2} (\\frac{x_d - \\mu_{jd}}{\\sigma_{jd}})^2)   $$\n",
    "\n",
    "\n",
    "Запишем производные логарифма $ N(x, \\mu_j, \\Sigma_j) $ по параметрам $\\mu_{jd}$ , $\\sigma_{jd}$ в точке $x_i =(x_{i1}, . . . , x_{in}):$\n",
    "\n",
    "$$ \\frac{\\partial \\ln N(x, \\mu_j, \\Sigma_j) }{\\partial \\mu_{jd}} = \\sigma_{jd}^{-2}(x_{id} - \\mu_{jd}) $$\n",
    "$$ \\frac{\\partial \\ln N(x, \\mu_j, \\Sigma_j) }{\\partial \\sigma_{jd}}=-\\sigma_{jd}^{-1} + \\sigma_{jd}^{-3} (x_{id}- \\mu_{jd})^{2} $$\n",
    "\n",
    "Взвешенный функционал правдоподобия:\n",
    "$$ \\sum_{i=1}^{m} g_i \\ln N(x, \\mu_j, \\Sigma_j) \\rightarrow  max $$ \n",
    "Приравняем нулю производные взвешенного функционала правдоподобия по параметрам $\\mu_{jd}$ , $\\sigma_{jd}$:\n",
    "\n",
    "$$ -\\sigma_{jd}^{-2} \\sum_{i=1}^{m} g_{ij} (x_{id} - \\mu_{jd}) = 0 $$\n",
    "\n",
    "$$ \\sigma_{jd}^{-3} \\sum_{i=1}^{m} g_{ij} ( \\sigma_{jd}^{2} - (x_{id} - \\mu_{jd})^{2} ) = 0   $$\n",
    "\n",
    "\n",
    "\n",
    "Отсюда, вынося параметры $\\mu_{jd}$ , $\\sigma_{jd}$ за знак суммирования по $i$, и применяя соотношение:\n",
    "\n",
    "$$ w_j = \\frac{1}{m} \\sum_{i=1}^{m} \\frac{w_j p_j(x_i)}{\\sum_{s=1}^{k}w_s p_s(x_i)} =   \\frac{1}{m} \\sum_{i=1}^{m} g_{ij}   $$\n",
    "\n",
    "получаем выражения:\n",
    "\n",
    "$$ \\mu_{jd} = \\frac{1}{m w_j} \\sum_{i=1}^{m} g_{ij}x_{id} $$\n",
    "\n",
    "$$ \\sigma_{jd}^2 = \\frac{1}{m w_j} \\sum_{i=1}^{m} g_{ij} (x_{id} - \\mu_{jd} )^2   $$\n"
   ]
  },
  {
   "cell_type": "code",
   "execution_count": null,
   "metadata": {},
   "outputs": [],
   "source": []
  }
 ],
 "metadata": {
  "kernelspec": {
   "display_name": "Python 3",
   "language": "python",
   "name": "python3"
  },
  "language_info": {
   "codemirror_mode": {
    "name": "ipython",
    "version": 3
   },
   "file_extension": ".py",
   "mimetype": "text/x-python",
   "name": "python",
   "nbconvert_exporter": "python",
   "pygments_lexer": "ipython3",
   "version": "3.7.3"
  }
 },
 "nbformat": 4,
 "nbformat_minor": 2
}
