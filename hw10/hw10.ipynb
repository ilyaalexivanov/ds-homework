{
 "cells": [
  {
   "cell_type": "code",
   "execution_count": 1,
   "metadata": {},
   "outputs": [],
   "source": [
    "import warnings\n",
    "warnings.filterwarnings('ignore')\n",
    "\n",
    "from gensim.models.word2vec import Word2Vec\n",
    "import gensim.downloader as api"
   ]
  },
  {
   "cell_type": "markdown",
   "metadata": {},
   "source": [
    "# Glove"
   ]
  },
  {
   "cell_type": "markdown",
   "metadata": {},
   "source": [
    "Загрузим предобученные векторные представления w2v glove-wiki-gigaword with size = 50"
   ]
  },
  {
   "cell_type": "code",
   "execution_count": 2,
   "metadata": {},
   "outputs": [
    {
     "name": "stdout",
     "output_type": "stream",
     "text": [
      "[==================================================] 100.0% 66.0/66.0MB downloaded\n"
     ]
    }
   ],
   "source": [
    "model_gigaword = api.load(\"glove-wiki-gigaword-50\")"
   ]
  },
  {
   "cell_type": "code",
   "execution_count": 3,
   "metadata": {
    "scrolled": true
   },
   "outputs": [
    {
     "data": {
      "text/plain": [
       "[('weapons', 0.8018144965171814),\n",
       " ('hand', 0.7318102121353149),\n",
       " ('armed', 0.7299286127090454),\n",
       " ('carrying', 0.724751353263855),\n",
       " ('carry', 0.7231833934783936),\n",
       " ('cross', 0.7169592380523682),\n",
       " ('pressed', 0.7155767679214478),\n",
       " ('holding', 0.7145683169364929),\n",
       " ('military', 0.7131772041320801),\n",
       " ('crack', 0.7077354192733765)]"
      ]
     },
     "execution_count": 3,
     "metadata": {},
     "output_type": "execute_result"
    }
   ],
   "source": [
    "model_gigaword.wv.most_similar(positive=[\"arms\"])"
   ]
  },
  {
   "cell_type": "markdown",
   "metadata": {},
   "source": [
    "Разница похожести между weapons(arms) и hand(arms) равна при размерности 50:"
   ]
  },
  {
   "cell_type": "code",
   "execution_count": 7,
   "metadata": {},
   "outputs": [
    {
     "name": "stdout",
     "output_type": "stream",
     "text": [
      "0.07000428438186646\n"
     ]
    }
   ],
   "source": [
    "weapons50 = 0.8018144965171814\n",
    "hand20 = 0.7318102121353149\n",
    "print(weapons50 - hand20)"
   ]
  },
  {
   "cell_type": "markdown",
   "metadata": {},
   "source": [
    "### Проблема полисемии\n",
    "Слово arms имеет несколько значений: \n",
    "1) оружие\n",
    "2) руки\n",
    "3) вооружиться\n",
    "4) ....\n",
    "\n",
    "Видно, что самые близкие слова по word2vec к \"arms\" - это \"оружие\", \"рука\", \"вооружиться\". Т.е. модель word2vec не разделяет слова по смыслку между \"оружием\" и \"рукой\", что показывает проблему полисемии. "
   ]
  },
  {
   "cell_type": "markdown",
   "metadata": {},
   "source": [
    "### Решение проблемы\n",
    "\n",
    "Самым простым решением, я думаю, что является увеличение размерности в модели word2vec. Попробуем загрузить претренированное представление glove-wiki-gigaword с размерностью size = 200 и size = 300"
   ]
  },
  {
   "cell_type": "markdown",
   "metadata": {},
   "source": [
    "### glove-wiki-gigaword with size = 200"
   ]
  },
  {
   "cell_type": "code",
   "execution_count": 4,
   "metadata": {},
   "outputs": [
    {
     "name": "stdout",
     "output_type": "stream",
     "text": [
      "[==================================================] 100.0% 252.1/252.1MB downloaded\n"
     ]
    }
   ],
   "source": [
    "model_gigaword200 = api.load(\"glove-wiki-gigaword-200\")"
   ]
  },
  {
   "cell_type": "code",
   "execution_count": 5,
   "metadata": {},
   "outputs": [
    {
     "data": {
      "text/plain": [
       "[('weapons', 0.7115007638931274),\n",
       " ('hand', 0.5853790044784546),\n",
       " ('hands', 0.5828639268875122),\n",
       " ('weapon', 0.5786144733428955),\n",
       " ('embargo', 0.5249772667884827),\n",
       " ('arm', 0.5146462917327881),\n",
       " ('weaponry', 0.513433039188385),\n",
       " ('nuclear', 0.5115358233451843),\n",
       " ('disarmament', 0.5083263516426086),\n",
       " ('iraq', 0.4986524283885956)]"
      ]
     },
     "execution_count": 5,
     "metadata": {},
     "output_type": "execute_result"
    }
   ],
   "source": [
    "model_gigaword200.wv.most_similar(positive=[\"arms\"])"
   ]
  },
  {
   "cell_type": "markdown",
   "metadata": {},
   "source": [
    "Разница похожести между weapons(arms) и hand(arms) равна при размерности 200:"
   ]
  },
  {
   "cell_type": "code",
   "execution_count": 11,
   "metadata": {},
   "outputs": [
    {
     "name": "stdout",
     "output_type": "stream",
     "text": [
      "0.12612175941467285\n"
     ]
    }
   ],
   "source": [
    "weapons200 = 0.7115007638931274\n",
    "hand200 = 0.5853790044784546\n",
    "print(weapons200-hand200)"
   ]
  },
  {
   "cell_type": "markdown",
   "metadata": {},
   "source": [
    "### glove-wiki-gigaword with size = 300"
   ]
  },
  {
   "cell_type": "code",
   "execution_count": 2,
   "metadata": {},
   "outputs": [],
   "source": [
    "model_gigaword300 = api.load(\"glove-wiki-gigaword-300\")"
   ]
  },
  {
   "cell_type": "code",
   "execution_count": 3,
   "metadata": {},
   "outputs": [
    {
     "data": {
      "text/plain": [
       "[('weapons', 0.6962858438491821),\n",
       " ('hands', 0.518326997756958),\n",
       " ('hand', 0.5146105885505676),\n",
       " ('weapon', 0.4933550953865051),\n",
       " ('arm', 0.4822937548160553),\n",
       " ('weaponry', 0.4644102454185486),\n",
       " ('nuclear', 0.4624325633049011),\n",
       " ('embargo', 0.46052801609039307),\n",
       " ('ammunition', 0.4554174542427063),\n",
       " ('armed', 0.44269073009490967)]"
      ]
     },
     "execution_count": 3,
     "metadata": {},
     "output_type": "execute_result"
    }
   ],
   "source": [
    "model_gigaword300.wv.most_similar(positive=[\"arms\"])"
   ]
  },
  {
   "cell_type": "markdown",
   "metadata": {},
   "source": [
    "Разница похожести между weapons(arms) и hand(arms) равна при размерности 300:"
   ]
  },
  {
   "cell_type": "code",
   "execution_count": 10,
   "metadata": {},
   "outputs": [
    {
     "name": "stdout",
     "output_type": "stream",
     "text": [
      "0.17795884609222412\n"
     ]
    }
   ],
   "source": [
    "weapons300 = 0.6962858438491821\n",
    "hands300 = 0.518326997756958\n",
    "print(weapons300-hands300)"
   ]
  },
  {
   "cell_type": "markdown",
   "metadata": {},
   "source": [
    "Расстояние между векторами будет рости при увеличении размерности, но это плохой метод решения проблемы полисемии. Одним вариантом решения, возможно может быть добавление в вектор информации о части речи"
   ]
  },
  {
   "cell_type": "code",
   "execution_count": null,
   "metadata": {},
   "outputs": [],
   "source": []
  }
 ],
 "metadata": {
  "kernelspec": {
   "display_name": "Python 3",
   "language": "python",
   "name": "python3"
  },
  "language_info": {
   "codemirror_mode": {
    "name": "ipython",
    "version": 3
   },
   "file_extension": ".py",
   "mimetype": "text/x-python",
   "name": "python",
   "nbconvert_exporter": "python",
   "pygments_lexer": "ipython3",
   "version": "3.7.3"
  }
 },
 "nbformat": 4,
 "nbformat_minor": 2
}
